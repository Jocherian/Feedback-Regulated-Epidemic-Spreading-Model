{
  "nbformat": 4,
  "nbformat_minor": 0,
  "metadata": {
    "kernelspec": {
      "display_name": "Python 3",
      "language": "python",
      "name": "python3"
    },
    "language_info": {
      "codemirror_mode": {
        "name": "ipython",
        "version": 3
      },
      "file_extension": ".py",
      "mimetype": "text/x-python",
      "name": "python",
      "nbconvert_exporter": "python",
      "pygments_lexer": "ipython3",
      "version": "3.6.1"
    },
    "colab": {
      "name": "FRES Simulation.ipynb",
      "provenance": []
    }
  },
  "cells": [
    {
      "cell_type": "code",
      "metadata": {
        "collapsed": true,
        "id": "xpKZ1fK4OVGY"
      },
      "source": [
        "import networkx\n",
        "import random\n",
        "import matplotlib.pyplot as plt\n",
        "import math"
      ],
      "execution_count": null,
      "outputs": []
    },
    {
      "cell_type": "code",
      "metadata": {
        "collapsed": true,
        "id": "DcidM4k-OVGi"
      },
      "source": [
        "\n",
        "def FRES_simulation(graph, v, d):\n",
        "    totalInfected = 500\n",
        "    infected = {}\n",
        "    spread = {}\n",
        "    \n",
        "    for node in graph.nodes():\n",
        "        infected[node] = False\n",
        "    \n",
        "    i = 0\n",
        "    while i < 500:\n",
        "        infectedNode = random.choice(graph.nodes())\n",
        "        if infected[infectedNode] is True:\n",
        "            continue\n",
        "        infected[infectedNode] = True\n",
        "        i += 1 \n",
        "    \n",
        "    totalNodes = graph.number_of_nodes()    \n",
        "        for t in range(10000):\n",
        "\n",
        "        spread[t] = totalInfected / totalNodes\n",
        "        node = random.choice(graph.nodes())\n",
        "        if infected[node]:\n",
        "            for neighbor in graph.neighbors(node):\n",
        "            \n",
        "                if random.random() < v and infected[neighbor] is False:\n",
        "                    infected[neighbor] = True\n",
        "                    totalInfected += 1\n",
        "            if random.random() < d:\n",
        "                infected[node] = False\n",
        "                totalInfected -= 1\n",
        "    return spread"
      ],
      "execution_count": null,
      "outputs": []
    },
    {
      "cell_type": "code",
      "metadata": {
        "collapsed": true,
        "id": "oPUoZJkeOVGp"
      },
      "source": [
        "# BASIC SIMULATION: New implementation\n",
        "def SIS_simulation__half_infected(graph, v, d):\n",
        "    totalInfected = graph.number_of_nodes() / 2\n",
        "    infected = {}\n",
        "    spread = {}\n",
        "    \n",
        "    for node in graph.nodes():\n",
        "        infected[node] = False\n",
        "    \n",
        "    # p0 = 0.5 --> 500 nodes initially infected in a graph of 1000\n",
        "    i = 0\n",
        "    while i < totalInfected:\n",
        "        infectedNode = random.choice(graph.nodes())\n",
        "        if infected[infectedNode] is True:\n",
        "            continue\n",
        "        infected[infectedNode] = True\n",
        "        i += 1       \n",
        "    \n",
        "    totalNodes = graph.number_of_nodes()    \n",
        "    # determine the number of infected nodes after timestep t\n",
        "    # infect a node if it has an infected neighbor instead of infecting all neighbors of an infected node \n",
        "    for t in range(10000):\n",
        "        # get density of infection over time\n",
        "        spread[t] = totalInfected / totalNodes\n",
        "        node = random.choice(graph.nodes())\n",
        "        if infected[node]:\n",
        "            for neighbor in graph.neighbors(node):\n",
        "                # infects a neighbor of an infected node with probability v\n",
        "                if random.random() < v and infected[neighbor] is False:\n",
        "                    infected[neighbor] = True\n",
        "                    totalInfected += 1\n",
        "            if random.random() < d:\n",
        "                infected[node] = False\n",
        "                totalInfected -= 1\n",
        "    return spread"
      ],
      "execution_count": null,
      "outputs": []
    },
    {
      "cell_type": "code",
      "metadata": {
        "id": "6T-ixBWmOVGu"
      },
      "source": [
        "# FIGURE 5: Probability of Survival in E-R Networks\n",
        "# 1. look at how likely it is that an infection survives to time t (either survives or dies)\n",
        "# 2. run 100 simulations, check the time when they die out\n",
        "# 3. compute how many simulations made it to a given timestep\n",
        "# 4. compute fraction of infections that survive until time t --> compute probability from frac\n",
        "graph = networkx.erdos_renyi_graph(1000, 0.015)\n",
        "lambdaC = 1 / (graph.number_of_edges() / graph.number_of_nodes())\n",
        "lam0 = lambdaC - 0.1\n",
        "lam1 = lambdaC - 0.08\n",
        "lam2 = lambdaC - 0.06\n",
        "lam3 = lambdaC - 0.04\n",
        "\n",
        "infection0 = {}\n",
        "infection0_freq = {}\n",
        "infection1 = {}\n",
        "infection1_freq = {}\n",
        "infection2 = {}\n",
        "infection2_freq = {}\n",
        "infection3 = {}\n",
        "infection3_freq = {}\n",
        "\n",
        "# initialize time frequencies\n",
        "for i in range(10000):\n",
        "    infection0_freq[i] = 0\n",
        "    infection1_freq[i] = 0\n",
        "    infection2_freq[i] = 0\n",
        "    infection3_freq[i] = 0"
      ],
      "execution_count": null,
      "outputs": []
    },
    {
      "cell_type": "code",
      "metadata": {
        "id": "OsMsil2zOVGu"
      },
      "source": [
        "# Gets die-out times for 100 simulations at each lambda value\n",
        "for i in range(100):\n",
        "    infection0[i] = survivalTime(graph, lam0, 1)\n",
        "    infection1[i] = survivalTime(graph, lam1, 1)\n",
        "    infection2[i] = survivalTime(graph, lam2, 1)\n",
        "    infection3[i] = survivalTime(graph, lam3, 1)\n",
        "    \n",
        "# Populates frequency tables for die-out times for each lambda value    \n",
        "for j in range(10000):\n",
        "    for k in range(100):\n",
        "        if infection0[k] > j:\n",
        "            infection0_freq[j] += 1\n",
        "        if infection1[k] > j:\n",
        "            infection1_freq[j] += 1\n",
        "        if infection2[k] > j:\n",
        "            infection2_freq[j] += 1\n",
        "        if infection3[k] > j:\n",
        "            infection3_freq[j] += 1\n",
        "\n",
        "    # divide num of times each lambda value gives a certain die-out time by number of simulations (100)\n",
        "    infection0_freq[j] = infection0_freq[j] / 100\n",
        "    infection1_freq[j] = infection1_freq[j] / 100\n",
        "    infection2_freq[j] = infection2_freq[j] / 100\n",
        "    infection3_freq[j] = infection3_freq[j] / 100"
      ],
      "execution_count": null,
      "outputs": []
    },
    {
      "cell_type": "code",
      "metadata": {
        "id": "xWOPHKvvOVGv",
        "outputId": "2c9f130a-0719-45bd-f590-0b26231dd79f"
      },
      "source": [
        "plt.plot(list(infection0_freq.keys()), list(infection0_freq.values()), \n",
        "         list(infection1_freq.keys()), list(infection1_freq.values()),\n",
        "         list(infection2_freq.keys()), list(infection2_freq.values()),\n",
        "         list(infection3_freq.keys()), list(infection3_freq.values()))\n",
        "plt.yscale('log')\n",
        "#plt.xscale('log')\n",
        "plt.xlim(0, 1000)\n",
        "plt.ylim(pow(10, -2), pow(10, 0))\n",
        "plt.show()"
      ],
      "execution_count": null,
      "outputs": [
        {
          "output_type": "display_data",
          "data": {
            "image/png": "[encoded data removed]",
            "text/plain": [
              "<matplotlib.figure.Figure at 0x11557bfd0>"
            ]
          },
          "metadata": {
            "tags": []
          }
        }
      ]
    }
  ]
}